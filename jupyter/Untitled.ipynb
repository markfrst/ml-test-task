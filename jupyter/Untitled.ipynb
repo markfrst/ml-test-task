{
 "cells": [
  {
   "cell_type": "code",
   "execution_count": 1,
   "metadata": {},
   "outputs": [],
   "source": [
    "import pandas as pd\n",
    "import numpy as np\n",
    "\n",
    "import plotly \n",
    "import plotly.plotly as py\n",
    "import plotly.figure_factory as ff\n",
    "\n",
    "from datetime import datetime\n",
    "\n",
    "plotly.tools.set_credentials_file(username='markfrost', api_key='P8k2LWyUTQFl1ompEWOk')"
   ]
  },
  {
   "cell_type": "code",
   "execution_count": 2,
   "metadata": {},
   "outputs": [],
   "source": [
    "data = pd.read_csv(\n",
    "        \"/Users/markfrost/my_projects/ds/test-ml-nik/data/data_with_full_date.csv\",\n",
    "        header=0,\n",
    "        sep=';',\n",
    "        usecols=['first_name', 'last_name', 'city',\n",
    "                 'bdate', 'type_1', 'type_2', 'type_3', 'type_4']\n",
    "    )"
   ]
  },
  {
   "cell_type": "code",
   "execution_count": 3,
   "metadata": {},
   "outputs": [
    {
     "name": "stdout",
     "output_type": "stream",
     "text": [
      "1902-01-01\n",
      "2005-12-12\n"
     ]
    }
   ],
   "source": [
    "# min and max dates\n",
    "\n",
    "print(np.array(data['bdate'], dtype='datetime64[D]').min())\n",
    "print(np.array(data['bdate'], dtype='datetime64[D]').max())"
   ]
  },
  {
   "cell_type": "code",
   "execution_count": 4,
   "metadata": {},
   "outputs": [
    {
     "name": "stderr",
     "output_type": "stream",
     "text": [
      "/usr/local/lib/python3.7/site-packages/IPython/core/display.py:689: UserWarning:\n",
      "\n",
      "Consider using IPython.display.IFrame instead\n",
      "\n"
     ]
    },
    {
     "data": {
      "text/html": [
       "<iframe id=\"igraph\" scrolling=\"no\" style=\"border:none;\" seamless=\"seamless\" src=\"https://plot.ly/~markfrost/9.embed\" height=\"600px\" width=\"600px\"></iframe>"
      ],
      "text/plain": [
       "<plotly.tools.PlotlyDisplay object>"
      ]
     },
     "execution_count": 4,
     "metadata": {},
     "output_type": "execute_result"
    }
   ],
   "source": [
    "# scope by type_1\n",
    "# data.groupby(['bdate'])\n",
    "\n",
    "fig = ff.create_facet_grid(\n",
    "    data,\n",
    "    x='bdate',\n",
    "    y='type_1',\n",
    "    facet_col='type_1',\n",
    "    trace_type='histogram',\n",
    ")\n",
    "\n",
    "py.iplot(fig, filename='ex|in')\n"
   ]
  },
  {
   "cell_type": "code",
   "execution_count": null,
   "metadata": {},
   "outputs": [
    {
     "data": {
      "text/html": [
       "<iframe id=\"igraph\" scrolling=\"no\" style=\"border:none;\" seamless=\"seamless\" src=\"https://plot.ly/~markfrost/11.embed\" height=\"600px\" width=\"600px\"></iframe>"
      ],
      "text/plain": [
       "<plotly.tools.PlotlyDisplay object>"
      ]
     },
     "execution_count": 5,
     "metadata": {},
     "output_type": "execute_result"
    }
   ],
   "source": [
    "fig = ff.create_facet_grid(\n",
    "    data,\n",
    "    x='bdate',\n",
    "    y='type_2',\n",
    "    facet_col='type_2',\n",
    "    trace_type='histogram',\n",
    ")\n",
    "\n",
    "py.iplot(fig, filename='et|log')"
   ]
  },
  {
   "cell_type": "code",
   "execution_count": null,
   "metadata": {},
   "outputs": [],
   "source": [
    "fig = ff.create_facet_grid(\n",
    "    data,\n",
    "    x='bdate',\n",
    "    y='type_3',\n",
    "    facet_col='type_3',\n",
    "    trace_type='histogram',\n",
    ")\n",
    "\n",
    "py.iplot(fig, filename='int|sens')\n"
   ]
  },
  {
   "cell_type": "code",
   "execution_count": null,
   "metadata": {},
   "outputs": [],
   "source": [
    "fig = ff.create_facet_grid(\n",
    "    data,\n",
    "    x='bdate',\n",
    "    y='type_4',\n",
    "    facet_col='type_4',\n",
    "    trace_type='histogram',\n",
    ")\n",
    "\n",
    "py.iplot(fig, filename='irr|rac')"
   ]
  }
 ],
 "metadata": {
  "kernelspec": {
   "display_name": "Python 3",
   "language": "python",
   "name": "python3"
  },
  "language_info": {
   "codemirror_mode": {
    "name": "ipython",
    "version": 3
   },
   "file_extension": ".py",
   "mimetype": "text/x-python",
   "name": "python",
   "nbconvert_exporter": "python",
   "pygments_lexer": "ipython3",
   "version": "3.7.0"
  }
 },
 "nbformat": 4,
 "nbformat_minor": 2
}
